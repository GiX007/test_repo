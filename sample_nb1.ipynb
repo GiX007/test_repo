{
  "nbformat": 4,
  "nbformat_minor": 0,
  "metadata": {
    "colab": {
      "provenance": [],
      "authorship_tag": "ABX9TyPCTnOJgJR5LzjxU5M0bm5G",
      "include_colab_link": true
    },
    "kernelspec": {
      "name": "python3",
      "display_name": "Python 3"
    },
    "language_info": {
      "name": "python"
    }
  },
  "cells": [
    {
      "cell_type": "markdown",
      "metadata": {
        "id": "view-in-github",
        "colab_type": "text"
      },
      "source": [
        "<a href=\"https://colab.research.google.com/github/GiX007/test_repo/blob/main/sample_nb1.ipynb\" target=\"_parent\"><img src=\"https://colab.research.google.com/assets/colab-badge.svg\" alt=\"Open In Colab\"/></a>"
      ]
    },
    {
      "cell_type": "code",
      "source": [
        "# Sample Titanic Data Analysis Notebook\n",
        "\n",
        "import pandas as pd\n",
        "import numpy as np\n",
        "import matplotlib.pyplot as plt\n",
        "\n",
        "# Load the Titanic dataset\n",
        "titanic = pd.read_csv('https://raw.githubusercontent.com/datasciencedojo/datasets/master/titanic.csv')\n",
        "\n",
        "# Display the first few rows\n",
        "print(titanic.head())"
      ],
      "metadata": {
        "colab": {
          "base_uri": "https://localhost:8080/"
        },
        "id": "lgqMBsSKPo1o",
        "outputId": "c5066bd4-478b-42de-a199-465b5511e55e"
      },
      "execution_count": 1,
      "outputs": [
        {
          "output_type": "stream",
          "name": "stdout",
          "text": [
            "   PassengerId  Survived  Pclass  \\\n",
            "0            1         0       3   \n",
            "1            2         1       1   \n",
            "2            3         1       3   \n",
            "3            4         1       1   \n",
            "4            5         0       3   \n",
            "\n",
            "                                                Name     Sex   Age  SibSp  \\\n",
            "0                            Braund, Mr. Owen Harris    male  22.0      1   \n",
            "1  Cumings, Mrs. John Bradley (Florence Briggs Th...  female  38.0      1   \n",
            "2                             Heikkinen, Miss. Laina  female  26.0      0   \n",
            "3       Futrelle, Mrs. Jacques Heath (Lily May Peel)  female  35.0      1   \n",
            "4                           Allen, Mr. William Henry    male  35.0      0   \n",
            "\n",
            "   Parch            Ticket     Fare Cabin Embarked  \n",
            "0      0         A/5 21171   7.2500   NaN        S  \n",
            "1      0          PC 17599  71.2833   C85        C  \n",
            "2      0  STON/O2. 3101282   7.9250   NaN        S  \n",
            "3      0            113803  53.1000  C123        S  \n",
            "4      0            373450   8.0500   NaN        S  \n"
          ]
        }
      ]
    },
    {
      "cell_type": "code",
      "source": [
        "# Basic data exploration\n",
        "print(\"Dataset shape:\", titanic.shape)\n",
        "print(\"\\nData types:\")\n",
        "print(titanic.dtypes)"
      ],
      "metadata": {
        "colab": {
          "base_uri": "https://localhost:8080/"
        },
        "id": "Ve-s1CL8Prhd",
        "outputId": "a5255566-9619-4559-93c0-39d7c2d310df"
      },
      "execution_count": 2,
      "outputs": [
        {
          "output_type": "stream",
          "name": "stdout",
          "text": [
            "Dataset shape: (891, 12)\n",
            "\n",
            "Data types:\n",
            "PassengerId      int64\n",
            "Survived         int64\n",
            "Pclass           int64\n",
            "Name            object\n",
            "Sex             object\n",
            "Age            float64\n",
            "SibSp            int64\n",
            "Parch            int64\n",
            "Ticket          object\n",
            "Fare           float64\n",
            "Cabin           object\n",
            "Embarked        object\n",
            "dtype: object\n"
          ]
        }
      ]
    },
    {
      "cell_type": "code",
      "source": [
        "# Group by operation - Survival rate by passenger class\n",
        "survival_by_class = titanic.groupby('Pclass')['Survived'].mean().reset_index()\n",
        "print(\"\\nSurvival rate by passenger class:\")\n",
        "print(survival_by_class)"
      ],
      "metadata": {
        "colab": {
          "base_uri": "https://localhost:8080/"
        },
        "id": "Epl6PYCXPwKc",
        "outputId": "9bd12bc4-cac9-4e2c-bf20-193a4309924c"
      },
      "execution_count": 3,
      "outputs": [
        {
          "output_type": "stream",
          "name": "stdout",
          "text": [
            "\n",
            "Survival rate by passenger class:\n",
            "   Pclass  Survived\n",
            "0       1  0.629630\n",
            "1       2  0.472826\n",
            "2       3  0.242363\n"
          ]
        }
      ]
    },
    {
      "cell_type": "code",
      "source": [
        "# Create a separate dataframe with age information\n",
        "age_df = titanic[['PassengerId', 'Age', 'Sex']].copy()\n",
        "age_df['AgeGroup'] = pd.cut(age_df['Age'], bins=[0, 12, 18, 35, 60, 100],\n",
        "                           labels=['Child', 'Teenager', 'Young Adult', 'Adult', 'Senior'])"
      ],
      "metadata": {
        "id": "VwoFRDc_Pyup"
      },
      "execution_count": 4,
      "outputs": []
    },
    {
      "cell_type": "code",
      "source": [
        "# Merge operation - Join age information back with main dataset\n",
        "enhanced_titanic = titanic.merge(age_df[['PassengerId', 'AgeGroup']], on='PassengerId', how='left')\n",
        "print(\"\\nEnhanced dataset with age groups:\")\n",
        "print(enhanced_titanic.head())"
      ],
      "metadata": {
        "colab": {
          "base_uri": "https://localhost:8080/"
        },
        "id": "ovwgyDXUP0Y_",
        "outputId": "c88ea2dc-58aa-4854-88c9-16be2fb9b18e"
      },
      "execution_count": 5,
      "outputs": [
        {
          "output_type": "stream",
          "name": "stdout",
          "text": [
            "\n",
            "Enhanced dataset with age groups:\n",
            "   PassengerId  Survived  Pclass  \\\n",
            "0            1         0       3   \n",
            "1            2         1       1   \n",
            "2            3         1       3   \n",
            "3            4         1       1   \n",
            "4            5         0       3   \n",
            "\n",
            "                                                Name     Sex   Age  SibSp  \\\n",
            "0                            Braund, Mr. Owen Harris    male  22.0      1   \n",
            "1  Cumings, Mrs. John Bradley (Florence Briggs Th...  female  38.0      1   \n",
            "2                             Heikkinen, Miss. Laina  female  26.0      0   \n",
            "3       Futrelle, Mrs. Jacques Heath (Lily May Peel)  female  35.0      1   \n",
            "4                           Allen, Mr. William Henry    male  35.0      0   \n",
            "\n",
            "   Parch            Ticket     Fare Cabin Embarked     AgeGroup  \n",
            "0      0         A/5 21171   7.2500   NaN        S  Young Adult  \n",
            "1      0          PC 17599  71.2833   C85        C        Adult  \n",
            "2      0  STON/O2. 3101282   7.9250   NaN        S  Young Adult  \n",
            "3      0            113803  53.1000  C123        S  Young Adult  \n",
            "4      0            373450   8.0500   NaN        S  Young Adult  \n"
          ]
        }
      ]
    },
    {
      "cell_type": "code",
      "source": [
        "# Create a table with ticket fare statistics by passenger class and embarkation port\n",
        "fare_stats = enhanced_titanic.pivot_table(\n",
        "    values='Fare',\n",
        "    index=['Pclass', 'Embarked'],\n",
        "    columns=['Sex'],\n",
        "    aggfunc=['mean', 'median', 'count']\n",
        ")\n",
        "print(\"\\nFare statistics by class, port, and gender:\")\n",
        "print(fare_stats)"
      ],
      "metadata": {
        "colab": {
          "base_uri": "https://localhost:8080/"
        },
        "id": "XQtbVdbPP2am",
        "outputId": "cc8b182a-a191-4e6c-9d70-d0f70b50dd7b"
      },
      "execution_count": null,
      "outputs": [
        {
          "output_type": "stream",
          "name": "stdout",
          "text": [
            "\n",
            "Fare statistics by class, port, and gender:\n",
            "                       mean              median           count     \n",
            "Sex                  female       male   female     male female male\n",
            "Pclass Embarked                                                     \n",
            "1      C         115.640309  93.536707  83.1583  61.6792     43   42\n",
            "       Q          90.000000  90.000000  90.0000  90.0000      1    1\n",
            "       S          99.026910  52.949947  79.6500  35.0000     48   79\n",
            "2      C          25.268457  25.421250  24.0000  25.8604      7   10\n",
            "       Q          12.350000  12.350000  12.3500  12.3500      2    1\n",
            "       S          21.912687  19.232474  23.0000  13.0000     67   97\n",
            "3      C          14.694926   9.352237  14.4583   7.2292     23   43\n",
            "       Q          10.307833  11.924251   7.7500   7.7500     33   39\n",
            "       S          18.670077  13.307149  14.4500   8.0500     88  265\n"
          ]
        }
      ]
    },
    {
      "cell_type": "code",
      "source": [
        "# Reset MultiIndex before melting\n",
        "fare_stats_reset = fare_stats.reset_index()\n",
        "\n",
        "# FLATTEN multiindex columns into strings like \"mean_male\"\n",
        "fare_stats_reset.columns = [\n",
        "    '_'.join(map(str, col)).strip() if isinstance(col, tuple) else col\n",
        "    for col in fare_stats_reset.columns\n",
        "]"
      ],
      "metadata": {
        "id": "P8ChKKjJEUe1"
      },
      "execution_count": null,
      "outputs": []
    },
    {
      "cell_type": "code",
      "source": [
        "# Unpivot operation (melt) - Transform the pivot table back to long format\n",
        "melted_fares = pd.melt(\n",
        "    fare_stats_reset,\n",
        "    id_vars=[('Pclass', ''), ('Embarked', '')],  # These are likely MultiIndex columns\n",
        "    var_name='Metrics',\n",
        "    value_name='Value'\n",
        ")\n",
        "print(\"\\nMelted fare statistics:\")\n",
        "print(melted_fares.head())"
      ],
      "metadata": {
        "colab": {
          "base_uri": "https://localhost:8080/"
        },
        "id": "SOCVgZC2P4NL",
        "outputId": "d824cf40-5821-4bfa-994c-bcda75667930"
      },
      "execution_count": null,
      "outputs": [
        {
          "output_type": "stream",
          "name": "stdout",
          "text": [
            "\n",
            "Melted fare statistics:\n",
            "   (Pclass, ) (Embarked, ) Metrics       Value\n",
            "0           1            C    mean  115.640309\n",
            "1           1            Q    mean   90.000000\n",
            "2           1            S    mean   99.026910\n",
            "3           2            C    mean   25.268457\n",
            "4           2            Q    mean   12.350000\n"
          ]
        }
      ]
    },
    {
      "cell_type": "code",
      "execution_count": null,
      "metadata": {
        "colab": {
          "base_uri": "https://localhost:8080/"
        },
        "id": "8ezvIJfmPiXk",
        "outputId": "1822b548-835e-4995-8fe1-77bba2e08d81"
      },
      "outputs": [
        {
          "output_type": "stream",
          "name": "stdout",
          "text": [
            "\n",
            "Comprehensive survival statistics:\n",
            "      Sex Pclass  Survived              Age               Fare          \n",
            "                      mean count       mean median        mean    median\n",
            "0  female      1  0.968085    94  34.611765   35.0  106.125798  82.66455\n",
            "1  female      2  0.921053    76  28.722973   28.0   21.970121  22.00000\n",
            "2  female      3  0.500000   144  21.750000   21.5   16.118810  12.47500\n",
            "3    male      1  0.368852   122  41.281386   40.0   67.226127  41.26250\n",
            "4    male      2  0.157407   108  30.740707   30.0   19.741782  13.00000\n",
            "5    male      3  0.135447   347  26.507589   25.0   12.661633   7.92500\n"
          ]
        }
      ],
      "source": [
        "# Additional group by with multiple aggregation functions\n",
        "survival_stats = titanic.groupby(['Sex', 'Pclass']).agg({\n",
        "    'Survived': ['mean', 'count'],\n",
        "    'Age': ['mean', 'median'],\n",
        "    'Fare': ['mean', 'median']\n",
        "}).reset_index()\n",
        "\n",
        "print(\"\\nComprehensive survival statistics:\")\n",
        "print(survival_stats)"
      ]
    },
    {
      "cell_type": "code",
      "source": [],
      "metadata": {
        "id": "MZ474rV4PkVj"
      },
      "execution_count": null,
      "outputs": []
    }
  ]
}